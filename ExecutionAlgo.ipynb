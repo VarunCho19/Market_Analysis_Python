{
 "cells": [
  {
   "cell_type": "code",
   "execution_count": 2,
   "metadata": {},
   "outputs": [],
   "source": [
    "import numpy as np\n",
    "import matplotlib.pyplot as plt\n",
    "import requests\n",
    "from datetime import datetime\n",
    "alphaVantageAPIKey = '9DC27QF1UM2LTAPZ'"
   ]
  },
  {
   "cell_type": "markdown",
   "metadata": {},
   "source": [
    "Below will be the function to get real time data using Alpha Vantage"
   ]
  },
  {
   "cell_type": "code",
   "execution_count": 9,
   "metadata": {},
   "outputs": [
    {
     "name": "stdout",
     "output_type": "stream",
     "text": [
      "[182.31, 182.29, 182.32, 182.3, 182.36, 182.365, 182.3, 182.285, 182.3, 182.29, 182.28, 182.29, 182.285, 182.29, 182.28, 182.29, 182.3, 182.3, 182.28, 182.26, 182.27, 182.275, 182.245, 182.24, 182.245, 182.24, 182.24, 182.26, 182.25, 182.26, 182.26, 182.26, 182.26, 182.27, 182.27, 182.27, 182.26, 182.265, 182.27, 182.25, 182.265, 182.26, 182.26, 182.26, 182.275, 182.25, 182.26, 182.25, 182.29, 182.29, 182.28, 182.27, 182.25, 182.27, 182.275, 182.29, 182.32, 182.33, 182.31, 182.32, 182.33, 182.32, 182.32, 182.325, 182.33, 182.32, 182.33, 182.325, 182.32, 182.33, 182.32, 182.33, 182.33, 182.33, 182.325, 182.32, 182.33, 182.32, 182.33, 182.32, 182.33, 182.32, 182.32, 182.32, 182.31, 182.31, 182.33, 182.32, 182.31, 182.32, 182.33, 182.36, 182.33, 182.37, 182.32, 182.38, 182.37, 182.37, 182.32, 182.32]\n"
     ]
    }
   ],
   "source": [
    "def getRealTimeData(ticker, apiKey):\n",
    "    url = 'https://www.alphavantage.co/query?function=TIME_SERIES_INTRADAY&symbol=AAPL&interval=1min&apikey={alphaVantageAPIKey}'\n",
    "    response = requests.get(url)\n",
    "    realTimeData = response.json()\n",
    "    #print(realTimeData)\n",
    "    prices = []\n",
    "    for timestamp, info in realTimeData['Time Series (1min)'].items():\n",
    "        prices.append(float(info['4. close']))\n",
    "    return prices\n",
    "\n",
    "price = getRealTimeData('AAPL', alphaVantageAPIKey)\n",
    "print(price)\n",
    "\n",
    "\n"
   ]
  },
  {
   "cell_type": "code",
   "execution_count": null,
   "metadata": {},
   "outputs": [],
   "source": []
  }
 ],
 "metadata": {
  "kernelspec": {
   "display_name": "base",
   "language": "python",
   "name": "python3"
  },
  "language_info": {
   "codemirror_mode": {
    "name": "ipython",
    "version": 3
   },
   "file_extension": ".py",
   "mimetype": "text/x-python",
   "name": "python",
   "nbconvert_exporter": "python",
   "pygments_lexer": "ipython3",
   "version": "3.9.12"
  }
 },
 "nbformat": 4,
 "nbformat_minor": 2
}
